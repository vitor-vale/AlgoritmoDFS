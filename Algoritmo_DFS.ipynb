{
  "nbformat": 4,
  "nbformat_minor": 0,
  "metadata": {
    "colab": {
      "provenance": []
    },
    "kernelspec": {
      "name": "python3",
      "display_name": "Python 3"
    },
    "language_info": {
      "name": "python"
    }
  },
  "cells": [
    {
      "cell_type": "code",
      "execution_count": null,
      "metadata": {
        "id": "vBkYILsHa9sj"
      },
      "outputs": [],
      "source": [
        "G1 = {\n",
        "    \"S\": [\"A\", \"H\"],\n",
        "    \"A\": [\"B\", \"C\"],\n",
        "    \"B\": [\"D\", \"E\"],\n",
        "    \"C\": [\"G\"],\n",
        "    \"D\": [\"I\"],\n",
        "    \"E\": [\"G\"],\n",
        "    \"I\": [\"J\", \"K\"],\n",
        "    \"H\": [],\n",
        "    \"G\": [],\n",
        "    \"K\": [],\n",
        "    \"J\": []\n",
        "}"
      ]
    },
    {
      "cell_type": "code",
      "source": [
        "def dfs_iterative(graph, source_node, stop):\n",
        "  visited = [] #lista de vertices visitados\n",
        "  stack = [] #pilha para controlar a ordem de visitacao dos vertices\n",
        "\n",
        "  stack.append(source_node) #adiciona o no de origem na pilha\n",
        "  while len(stack)>0 or stop not in visited: #executa quando a pilha nao estiver vazia\n",
        "     element = stack.pop() #tira o elemento que esta no topo da pilha\n",
        "     if element not in visited: #caso o elemento nao esteja em 'visited'\n",
        "      visited.append(element) #adiciona o elemento na lista de visitado\n",
        "\n",
        "      #adiciona na pilha os vizinhos do elemento que ainda nao foram visitados\n",
        "      # para seguir a ordem alfabetica ordenamos os vizinhos de maneira reversa\n",
        "      for adj in sorted(graph[element], reverse=True):\n",
        "        if adj not in visited:\n",
        "          stack.append(adj)\n",
        "  return visited"
      ],
      "metadata": {
        "id": "vjqOB50-bmRd"
      },
      "execution_count": null,
      "outputs": []
    },
    {
      "cell_type": "code",
      "source": [
        "dfs_iterative(G1, \"S\", \"C\")"
      ],
      "metadata": {
        "colab": {
          "base_uri": "https://localhost:8080/"
        },
        "id": "LjwPv3lMd55J",
        "outputId": "91bf592c-9441-4552-fc1b-ba47b136df89"
      },
      "execution_count": null,
      "outputs": [
        {
          "output_type": "execute_result",
          "data": {
            "text/plain": [
              "['S', 'A', 'B', 'D', 'I', 'J', 'K', 'E', 'G', 'C', 'H']"
            ]
          },
          "metadata": {},
          "execution_count": 39
        }
      ]
    },
    {
      "cell_type": "code",
      "source": [],
      "metadata": {
        "id": "WyUO9m8heBLg"
      },
      "execution_count": null,
      "outputs": []
    }
  ]
}